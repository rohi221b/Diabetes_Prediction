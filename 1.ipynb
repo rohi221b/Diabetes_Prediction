{
 "metadata": {
  "language_info": {
   "codemirror_mode": {
    "name": "ipython",
    "version": 3
   },
   "file_extension": ".py",
   "mimetype": "text/x-python",
   "name": "python",
   "nbconvert_exporter": "python",
   "pygments_lexer": "ipython3",
   "version": "3.7.7-final"
  },
  "orig_nbformat": 2,
  "kernelspec": {
   "name": "Python 3.7.7 64-bit ('tf_gpu': conda)",
   "display_name": "Python 3.7.7 64-bit ('tf_gpu': conda)",
   "metadata": {
    "interpreter": {
     "hash": "7d57a87e84820b5ad239fee0a422800e0b134d77433d2023eb057b028452a2bb"
    }
   }
  }
 },
 "nbformat": 4,
 "nbformat_minor": 2,
 "cells": [
  {
   "cell_type": "code",
   "execution_count": 2,
   "metadata": {},
   "outputs": [],
   "source": [
    "import pandas as pd \n",
    "import matplotlib.pylab as plt \n",
    "import numpy as np \n",
    "\n",
    "%matplotlib inline"
   ]
  },
  {
   "cell_type": "code",
   "execution_count": 3,
   "metadata": {},
   "outputs": [],
   "source": [
    "data = pd.read_csv('./pima-data.csv')    "
   ]
  },
  {
   "cell_type": "code",
   "execution_count": 4,
   "metadata": {},
   "outputs": [
    {
     "output_type": "execute_result",
     "data": {
      "text/plain": "   num_preg  glucose_conc  diastolic_bp  thickness  insulin   bmi  diab_pred  \\\n0         6           148            72         35        0  33.6      0.627   \n1         1            85            66         29        0  26.6      0.351   \n2         8           183            64          0        0  23.3      0.672   \n3         1            89            66         23       94  28.1      0.167   \n4         0           137            40         35      168  43.1      2.288   \n\n   age    skin  diabetes  \n0   50  1.3790      True  \n1   31  1.1426     False  \n2   32  0.0000      True  \n3   21  0.9062     False  \n4   33  1.3790      True  ",
      "text/html": "<div>\n<style scoped>\n    .dataframe tbody tr th:only-of-type {\n        vertical-align: middle;\n    }\n\n    .dataframe tbody tr th {\n        vertical-align: top;\n    }\n\n    .dataframe thead th {\n        text-align: right;\n    }\n</style>\n<table border=\"1\" class=\"dataframe\">\n  <thead>\n    <tr style=\"text-align: right;\">\n      <th></th>\n      <th>num_preg</th>\n      <th>glucose_conc</th>\n      <th>diastolic_bp</th>\n      <th>thickness</th>\n      <th>insulin</th>\n      <th>bmi</th>\n      <th>diab_pred</th>\n      <th>age</th>\n      <th>skin</th>\n      <th>diabetes</th>\n    </tr>\n  </thead>\n  <tbody>\n    <tr>\n      <th>0</th>\n      <td>6</td>\n      <td>148</td>\n      <td>72</td>\n      <td>35</td>\n      <td>0</td>\n      <td>33.6</td>\n      <td>0.627</td>\n      <td>50</td>\n      <td>1.3790</td>\n      <td>True</td>\n    </tr>\n    <tr>\n      <th>1</th>\n      <td>1</td>\n      <td>85</td>\n      <td>66</td>\n      <td>29</td>\n      <td>0</td>\n      <td>26.6</td>\n      <td>0.351</td>\n      <td>31</td>\n      <td>1.1426</td>\n      <td>False</td>\n    </tr>\n    <tr>\n      <th>2</th>\n      <td>8</td>\n      <td>183</td>\n      <td>64</td>\n      <td>0</td>\n      <td>0</td>\n      <td>23.3</td>\n      <td>0.672</td>\n      <td>32</td>\n      <td>0.0000</td>\n      <td>True</td>\n    </tr>\n    <tr>\n      <th>3</th>\n      <td>1</td>\n      <td>89</td>\n      <td>66</td>\n      <td>23</td>\n      <td>94</td>\n      <td>28.1</td>\n      <td>0.167</td>\n      <td>21</td>\n      <td>0.9062</td>\n      <td>False</td>\n    </tr>\n    <tr>\n      <th>4</th>\n      <td>0</td>\n      <td>137</td>\n      <td>40</td>\n      <td>35</td>\n      <td>168</td>\n      <td>43.1</td>\n      <td>2.288</td>\n      <td>33</td>\n      <td>1.3790</td>\n      <td>True</td>\n    </tr>\n  </tbody>\n</table>\n</div>"
     },
     "metadata": {},
     "execution_count": 4
    }
   ],
   "source": [
    "data.head()"
   ]
  },
  {
   "cell_type": "code",
   "execution_count": 5,
   "metadata": {},
   "outputs": [
    {
     "output_type": "execute_result",
     "data": {
      "text/plain": "False"
     },
     "metadata": {},
     "execution_count": 5
    }
   ],
   "source": [
    "data.isnull().values.any()"
   ]
  },
  {
   "cell_type": "code",
   "execution_count": 6,
   "metadata": {},
   "outputs": [
    {
     "output_type": "execute_result",
     "data": {
      "text/plain": "              num_preg  glucose_conc  diastolic_bp  thickness   insulin  \\\nnum_preg      1.000000      0.129459      0.141282  -0.081672 -0.073535   \nglucose_conc  0.129459      1.000000      0.152590   0.057328  0.331357   \ndiastolic_bp  0.141282      0.152590      1.000000   0.207371  0.088933   \nthickness    -0.081672      0.057328      0.207371   1.000000  0.436783   \ninsulin      -0.073535      0.331357      0.088933   0.436783  1.000000   \nbmi           0.017683      0.221071      0.281805   0.392573  0.197859   \ndiab_pred    -0.033523      0.137337      0.041265   0.183928  0.185071   \nage           0.544341      0.263514      0.239528  -0.113970 -0.042163   \nskin         -0.081672      0.057328      0.207371   1.000000  0.436783   \ndiabetes      0.221898      0.466581      0.065068   0.074752  0.130548   \n\n                   bmi  diab_pred       age      skin  diabetes  \nnum_preg      0.017683  -0.033523  0.544341 -0.081672  0.221898  \nglucose_conc  0.221071   0.137337  0.263514  0.057328  0.466581  \ndiastolic_bp  0.281805   0.041265  0.239528  0.207371  0.065068  \nthickness     0.392573   0.183928 -0.113970  1.000000  0.074752  \ninsulin       0.197859   0.185071 -0.042163  0.436783  0.130548  \nbmi           1.000000   0.140647  0.036242  0.392573  0.292695  \ndiab_pred     0.140647   1.000000  0.033561  0.183928  0.173844  \nage           0.036242   0.033561  1.000000 -0.113970  0.238356  \nskin          0.392573   0.183928 -0.113970  1.000000  0.074752  \ndiabetes      0.292695   0.173844  0.238356  0.074752  1.000000  ",
      "text/html": "<div>\n<style scoped>\n    .dataframe tbody tr th:only-of-type {\n        vertical-align: middle;\n    }\n\n    .dataframe tbody tr th {\n        vertical-align: top;\n    }\n\n    .dataframe thead th {\n        text-align: right;\n    }\n</style>\n<table border=\"1\" class=\"dataframe\">\n  <thead>\n    <tr style=\"text-align: right;\">\n      <th></th>\n      <th>num_preg</th>\n      <th>glucose_conc</th>\n      <th>diastolic_bp</th>\n      <th>thickness</th>\n      <th>insulin</th>\n      <th>bmi</th>\n      <th>diab_pred</th>\n      <th>age</th>\n      <th>skin</th>\n      <th>diabetes</th>\n    </tr>\n  </thead>\n  <tbody>\n    <tr>\n      <th>num_preg</th>\n      <td>1.000000</td>\n      <td>0.129459</td>\n      <td>0.141282</td>\n      <td>-0.081672</td>\n      <td>-0.073535</td>\n      <td>0.017683</td>\n      <td>-0.033523</td>\n      <td>0.544341</td>\n      <td>-0.081672</td>\n      <td>0.221898</td>\n    </tr>\n    <tr>\n      <th>glucose_conc</th>\n      <td>0.129459</td>\n      <td>1.000000</td>\n      <td>0.152590</td>\n      <td>0.057328</td>\n      <td>0.331357</td>\n      <td>0.221071</td>\n      <td>0.137337</td>\n      <td>0.263514</td>\n      <td>0.057328</td>\n      <td>0.466581</td>\n    </tr>\n    <tr>\n      <th>diastolic_bp</th>\n      <td>0.141282</td>\n      <td>0.152590</td>\n      <td>1.000000</td>\n      <td>0.207371</td>\n      <td>0.088933</td>\n      <td>0.281805</td>\n      <td>0.041265</td>\n      <td>0.239528</td>\n      <td>0.207371</td>\n      <td>0.065068</td>\n    </tr>\n    <tr>\n      <th>thickness</th>\n      <td>-0.081672</td>\n      <td>0.057328</td>\n      <td>0.207371</td>\n      <td>1.000000</td>\n      <td>0.436783</td>\n      <td>0.392573</td>\n      <td>0.183928</td>\n      <td>-0.113970</td>\n      <td>1.000000</td>\n      <td>0.074752</td>\n    </tr>\n    <tr>\n      <th>insulin</th>\n      <td>-0.073535</td>\n      <td>0.331357</td>\n      <td>0.088933</td>\n      <td>0.436783</td>\n      <td>1.000000</td>\n      <td>0.197859</td>\n      <td>0.185071</td>\n      <td>-0.042163</td>\n      <td>0.436783</td>\n      <td>0.130548</td>\n    </tr>\n    <tr>\n      <th>bmi</th>\n      <td>0.017683</td>\n      <td>0.221071</td>\n      <td>0.281805</td>\n      <td>0.392573</td>\n      <td>0.197859</td>\n      <td>1.000000</td>\n      <td>0.140647</td>\n      <td>0.036242</td>\n      <td>0.392573</td>\n      <td>0.292695</td>\n    </tr>\n    <tr>\n      <th>diab_pred</th>\n      <td>-0.033523</td>\n      <td>0.137337</td>\n      <td>0.041265</td>\n      <td>0.183928</td>\n      <td>0.185071</td>\n      <td>0.140647</td>\n      <td>1.000000</td>\n      <td>0.033561</td>\n      <td>0.183928</td>\n      <td>0.173844</td>\n    </tr>\n    <tr>\n      <th>age</th>\n      <td>0.544341</td>\n      <td>0.263514</td>\n      <td>0.239528</td>\n      <td>-0.113970</td>\n      <td>-0.042163</td>\n      <td>0.036242</td>\n      <td>0.033561</td>\n      <td>1.000000</td>\n      <td>-0.113970</td>\n      <td>0.238356</td>\n    </tr>\n    <tr>\n      <th>skin</th>\n      <td>-0.081672</td>\n      <td>0.057328</td>\n      <td>0.207371</td>\n      <td>1.000000</td>\n      <td>0.436783</td>\n      <td>0.392573</td>\n      <td>0.183928</td>\n      <td>-0.113970</td>\n      <td>1.000000</td>\n      <td>0.074752</td>\n    </tr>\n    <tr>\n      <th>diabetes</th>\n      <td>0.221898</td>\n      <td>0.466581</td>\n      <td>0.065068</td>\n      <td>0.074752</td>\n      <td>0.130548</td>\n      <td>0.292695</td>\n      <td>0.173844</td>\n      <td>0.238356</td>\n      <td>0.074752</td>\n      <td>1.000000</td>\n    </tr>\n  </tbody>\n</table>\n</div>"
     },
     "metadata": {},
     "execution_count": 6
    }
   ],
   "source": [
    "data.corr()"
   ]
  },
  {
   "cell_type": "code",
   "execution_count": 15,
   "metadata": {},
   "outputs": [],
   "source": [
    "# import seaborn as sns\n",
    "# import matplotlib.pyplot as plt \n",
    "\n",
    "# corr_mat = data.corr()\n",
    "# top_corr_features = corr_mat.index\n",
    "# plt.figure(figsize=(20 , 20))\n",
    "\n",
    "# g-sns.heatmap(data[top_corr_features].corr() , annot = True , cmp = \"RdY1Gn\")\n"
   ]
  },
  {
   "cell_type": "code",
   "execution_count": 7,
   "metadata": {},
   "outputs": [
    {
     "output_type": "execute_result",
     "data": {
      "text/plain": "   num_preg  glucose_conc  diastolic_bp  thickness  insulin   bmi  diab_pred  \\\n0         6           148            72         35        0  33.6      0.627   \n1         1            85            66         29        0  26.6      0.351   \n2         8           183            64          0        0  23.3      0.672   \n3         1            89            66         23       94  28.1      0.167   \n4         0           137            40         35      168  43.1      2.288   \n\n   age    skin  diabetes  \n0   50  1.3790         1  \n1   31  1.1426         0  \n2   32  0.0000         1  \n3   21  0.9062         0  \n4   33  1.3790         1  ",
      "text/html": "<div>\n<style scoped>\n    .dataframe tbody tr th:only-of-type {\n        vertical-align: middle;\n    }\n\n    .dataframe tbody tr th {\n        vertical-align: top;\n    }\n\n    .dataframe thead th {\n        text-align: right;\n    }\n</style>\n<table border=\"1\" class=\"dataframe\">\n  <thead>\n    <tr style=\"text-align: right;\">\n      <th></th>\n      <th>num_preg</th>\n      <th>glucose_conc</th>\n      <th>diastolic_bp</th>\n      <th>thickness</th>\n      <th>insulin</th>\n      <th>bmi</th>\n      <th>diab_pred</th>\n      <th>age</th>\n      <th>skin</th>\n      <th>diabetes</th>\n    </tr>\n  </thead>\n  <tbody>\n    <tr>\n      <th>0</th>\n      <td>6</td>\n      <td>148</td>\n      <td>72</td>\n      <td>35</td>\n      <td>0</td>\n      <td>33.6</td>\n      <td>0.627</td>\n      <td>50</td>\n      <td>1.3790</td>\n      <td>1</td>\n    </tr>\n    <tr>\n      <th>1</th>\n      <td>1</td>\n      <td>85</td>\n      <td>66</td>\n      <td>29</td>\n      <td>0</td>\n      <td>26.6</td>\n      <td>0.351</td>\n      <td>31</td>\n      <td>1.1426</td>\n      <td>0</td>\n    </tr>\n    <tr>\n      <th>2</th>\n      <td>8</td>\n      <td>183</td>\n      <td>64</td>\n      <td>0</td>\n      <td>0</td>\n      <td>23.3</td>\n      <td>0.672</td>\n      <td>32</td>\n      <td>0.0000</td>\n      <td>1</td>\n    </tr>\n    <tr>\n      <th>3</th>\n      <td>1</td>\n      <td>89</td>\n      <td>66</td>\n      <td>23</td>\n      <td>94</td>\n      <td>28.1</td>\n      <td>0.167</td>\n      <td>21</td>\n      <td>0.9062</td>\n      <td>0</td>\n    </tr>\n    <tr>\n      <th>4</th>\n      <td>0</td>\n      <td>137</td>\n      <td>40</td>\n      <td>35</td>\n      <td>168</td>\n      <td>43.1</td>\n      <td>2.288</td>\n      <td>33</td>\n      <td>1.3790</td>\n      <td>1</td>\n    </tr>\n  </tbody>\n</table>\n</div>"
     },
     "metadata": {},
     "execution_count": 7
    }
   ],
   "source": [
    "diabetes_map = {True : 1 , False : 0}\n",
    "data['diabetes'] = data['diabetes'].map(diabetes_map)\n",
    "data.head()"
   ]
  },
  {
   "cell_type": "code",
   "execution_count": 8,
   "metadata": {},
   "outputs": [],
   "source": [
    "diabetes_true_count = len(data.loc[data['diabetes']== True])\n",
    "diabetes_false_count = len(data.loc[data['diabetes']== False])"
   ]
  },
  {
   "cell_type": "code",
   "execution_count": 9,
   "metadata": {
    "tags": []
   },
   "outputs": [
    {
     "output_type": "stream",
     "name": "stdout",
     "text": "500 268\n"
    }
   ],
   "source": [
    "print(diabetes_false_count , diabetes_true_count)"
   ]
  },
  {
   "cell_type": "code",
   "execution_count": 11,
   "metadata": {},
   "outputs": [
    {
     "output_type": "execute_result",
     "data": {
      "text/plain": "RangeIndex(start=0, stop=768, step=1)"
     },
     "metadata": {},
     "execution_count": 11
    }
   ],
   "source": [
    "data.index"
   ]
  },
  {
   "cell_type": "code",
   "execution_count": 13,
   "metadata": {},
   "outputs": [],
   "source": [
    "from sklearn.model_selection import train_test_split\n",
    "feature_columns = ['num_preg' , 'glucose_conc',\t'diastolic_bp',\t'thickness', 'insulin',\t'bmi',\t'diab_pred',\t'age',\t'skin']\n",
    "predicted_class = ['diabetes']"
   ]
  },
  {
   "cell_type": "code",
   "execution_count": 23,
   "metadata": {
    "tags": []
   },
   "outputs": [],
   "source": [
    "x = data[feature_columns].values\n",
    "y = data[predicted_class].values\n",
    "\n",
    "X_train , X_test , y_train , y_test = train_test_split(x , y , test_size = 0.3 , random_state = 10)"
   ]
  },
  {
   "cell_type": "code",
   "execution_count": 24,
   "metadata": {
    "tags": []
   },
   "outputs": [
    {
     "output_type": "stream",
     "name": "stdout",
     "text": "Total No of rows : 768\n"
    }
   ],
   "source": [
    "print(f\"Total No of rows : {len(data)}\")\n",
    "print(f\"No of Zeros in num_preg : {len(data.loc[data['num_preg'] == 0])}\")\n",
    "print(f\"No of Zeros in glucose_conc : \")\n",
    "print(f\"No of Zeros in diastolic_bp : \")\n",
    "print(f\"No of Zeros in thickness : \")\n",
    "print(f\"No of Zeros in insulin : \")\n",
    "print(f\"No of Zeros in bmi : \")\n",
    "print(f\"No of Zeros in diab_pred : \")"
   ]
  },
  {
   "cell_type": "code",
   "execution_count": null,
   "metadata": {},
   "outputs": [],
   "source": [
    "print(data['num'])"
   ]
  },
  {
   "cell_type": "code",
   "execution_count": null,
   "metadata": {},
   "outputs": [],
   "source": []
  },
  {
   "cell_type": "code",
   "execution_count": null,
   "metadata": {},
   "outputs": [],
   "source": []
  },
  {
   "cell_type": "code",
   "execution_count": null,
   "metadata": {},
   "outputs": [],
   "source": []
  },
  {
   "cell_type": "code",
   "execution_count": null,
   "metadata": {},
   "outputs": [],
   "source": []
  },
  {
   "cell_type": "code",
   "execution_count": null,
   "metadata": {},
   "outputs": [],
   "source": []
  },
  {
   "cell_type": "code",
   "execution_count": null,
   "metadata": {},
   "outputs": [],
   "source": []
  },
  {
   "cell_type": "code",
   "execution_count": null,
   "metadata": {},
   "outputs": [],
   "source": []
  },
  {
   "cell_type": "code",
   "execution_count": null,
   "metadata": {},
   "outputs": [],
   "source": []
  },
  {
   "cell_type": "code",
   "execution_count": null,
   "metadata": {},
   "outputs": [],
   "source": []
  }
 ]
}